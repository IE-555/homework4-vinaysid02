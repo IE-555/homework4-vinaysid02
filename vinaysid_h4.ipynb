{
 "cells": [
  {
   "cell_type": "code",
   "execution_count": 5,
   "metadata": {},
   "outputs": [
    {
     "data": {
      "image/png": "[encoded data removed]",
      "text/plain": [
       "<Figure size 432x288 with 1 Axes>"
      ]
     },
     "metadata": {
      "needs_background": "light"
     },
     "output_type": "display_data"
    }
   ],
   "source": [
    "import pandas as pd\n",
    "import matplotlib.pyplot as plt\n",
    "\n",
    "df = pd.read_csv('scatter_data.csv',comment='%',names=['x','y'])\n",
    "#getting x and y column for x axis and y axis\n",
    "x = df['x']\n",
    "y = df['y']\n",
    "# plot with green traingles\n",
    "plt.plot(x, y, 'g^', label='observations')\n",
    "# minimum  and maximum x cordinates at left and right\n",
    "leftmin_x = min(x)\n",
    "rightmax_x = max(x)\n",
    "\n",
    "leftmin_y = y[x.idxmin()]\n",
    "rightmax_y = y[x.idxmax()]\n",
    "plt.plot([leftmin_x, rightmax_x], [leftmin_y, rightmax_y], 'r--', label='extreme x points')\n",
    "plt.title('Widget Mesurements')\n",
    "plt.xlabel('x [inches]')\n",
    "plt.ylabel('y [inches]')\n",
    "plt.legend()\n",
    "plt.show()"
   ]
  },
  {
   "cell_type": "code",
   "execution_count": 11,
   "metadata": {},
   "outputs": [],
   "source": [
    "df2=pd.read_csv(\"student_grades.csv\")"
   ]
  },
  {
   "cell_type": "code",
   "execution_count": 12,
   "metadata": {},
   "outputs": [
    {
     "data": {
      "text/html": [
       "<div>\n",
       "<style scoped>\n",
       "    .dataframe tbody tr th:only-of-type {\n",
       "        vertical-align: middle;\n",
       "    }\n",
       "\n",
       "    .dataframe tbody tr th {\n",
       "        vertical-align: top;\n",
       "    }\n",
       "\n",
       "    .dataframe thead th {\n",
       "        text-align: right;\n",
       "    }\n",
       "</style>\n",
       "<table border=\"1\" class=\"dataframe\">\n",
       "  <thead>\n",
       "    <tr style=\"text-align: right;\">\n",
       "      <th></th>\n",
       "      <th>% studentID</th>\n",
       "      <th>avgScore</th>\n",
       "    </tr>\n",
       "  </thead>\n",
       "  <tbody>\n",
       "    <tr>\n",
       "      <th>0</th>\n",
       "      <td>0</td>\n",
       "      <td>81.563259</td>\n",
       "    </tr>\n",
       "    <tr>\n",
       "      <th>1</th>\n",
       "      <td>1</td>\n",
       "      <td>67.426527</td>\n",
       "    </tr>\n",
       "    <tr>\n",
       "      <th>2</th>\n",
       "      <td>2</td>\n",
       "      <td>86.415197</td>\n",
       "    </tr>\n",
       "    <tr>\n",
       "      <th>3</th>\n",
       "      <td>3</td>\n",
       "      <td>80.387361</td>\n",
       "    </tr>\n",
       "    <tr>\n",
       "      <th>4</th>\n",
       "      <td>4</td>\n",
       "      <td>76.669249</td>\n",
       "    </tr>\n",
       "  </tbody>\n",
       "</table>\n",
       "</div>"
      ],
      "text/plain": [
       "   % studentID   avgScore \n",
       "0            0   81.563259\n",
       "1            1   67.426527\n",
       "2            2   86.415197\n",
       "3            3   80.387361\n",
       "4            4   76.669249"
      ]
     },
     "execution_count": 12,
     "metadata": {},
     "output_type": "execute_result"
    }
   ],
   "source": [
    "df2.head()"
   ]
  },
  {
   "cell_type": "code",
   "execution_count": 45,
   "metadata": {},
   "outputs": [],
   "source": [
    "a=df2[df2[' avgScore '] < 60]"
   ]
  },
  {
   "cell_type": "code",
   "execution_count": 44,
   "metadata": {},
   "outputs": [
    {
     "data": {
      "text/html": [
       "<div>\n",
       "<style scoped>\n",
       "    .dataframe tbody tr th:only-of-type {\n",
       "        vertical-align: middle;\n",
       "    }\n",
       "\n",
       "    .dataframe tbody tr th {\n",
       "        vertical-align: top;\n",
       "    }\n",
       "\n",
       "    .dataframe thead th {\n",
       "        text-align: right;\n",
       "    }\n",
       "</style>\n",
       "<table border=\"1\" class=\"dataframe\">\n",
       "  <thead>\n",
       "    <tr style=\"text-align: right;\">\n",
       "      <th></th>\n",
       "      <th>% studentID</th>\n",
       "      <th>avgScore</th>\n",
       "    </tr>\n",
       "  </thead>\n",
       "  <tbody>\n",
       "    <tr>\n",
       "      <th>38</th>\n",
       "      <td>38</td>\n",
       "      <td>56.271864</td>\n",
       "    </tr>\n",
       "    <tr>\n",
       "      <th>53</th>\n",
       "      <td>53</td>\n",
       "      <td>49.716934</td>\n",
       "    </tr>\n",
       "    <tr>\n",
       "      <th>64</th>\n",
       "      <td>64</td>\n",
       "      <td>54.867957</td>\n",
       "    </tr>\n",
       "  </tbody>\n",
       "</table>\n",
       "</div>"
      ],
      "text/plain": [
       "    % studentID   avgScore \n",
       "38           38   56.271864\n",
       "53           53   49.716934\n",
       "64           64   54.867957"
      ]
     },
     "execution_count": 44,
     "metadata": {},
     "output_type": "execute_result"
    }
   ],
   "source": [
    "a"
   ]
  },
  {
   "cell_type": "code",
   "execution_count": 6,
   "metadata": {},
   "outputs": [
    {
     "data": {
      "image/png": "[encoded data removed]",
      "text/plain": [
       "<Figure size 432x288 with 1 Axes>"
      ]
     },
     "metadata": {
      "needs_background": "light"
     },
     "output_type": "display_data"
    }
   ],
   "source": [
    "import pandas as pd\n",
    "import matplotlib.pyplot as plt\n",
    "\n",
    "# Read data from the CSV file into a DataFrame\n",
    "df2 = pd.read_csv(\"student_grades.csv\")\n",
    "\n",
    "# Define the grade score ranges and labels\n",
    "# Specify the bin edges to align with grade midpoints\n",
    "bins = [49.55,59.99, 69.99, 79.99, 89.99, 100]\n",
    "labels = ['F', 'D', 'C', 'B', 'A']\n",
    "\n",
    "# Create the histogram using the actual column name from your DataFrame\n",
    "hist_data, bin_edges, _ = plt.hist(df2[' avgScore '], bins=bins, edgecolor='k', alpha=0.7, rwidth=0.85, color='orange')\n",
    "\n",
    "# Add labels and title\n",
    "plt.xlabel('Grades')\n",
    "plt.ylabel('Count')\n",
    "plt.title('Grade Distribution')\n",
    "\n",
    "# Add the grade labels to the x-axis\n",
    "plt.xticks(bins, labels)\n",
    "\n",
    "# Add counts above each bar\n",
    "counts = [str(count) for count in hist_data]\n",
    "for i in range(len(bins) - 1):\n",
    "    plt.text((bin_edges[i] + bin_edges[i + 1]) / 2, hist_data[i], counts[i],ha='center')\n",
    "\n",
    "# Display the plot\n",
    "plt.show()\n"
   ]
  },
  {
   "cell_type": "code",
   "execution_count": 15,
   "metadata": {},
   "outputs": [],
   "source": [
    "df4=pd.read_csv(\"solution_data.csv\")"
   ]
  },
  {
   "cell_type": "code",
   "execution_count": 67,
   "metadata": {},
   "outputs": [
    {
     "data": {
      "text/html": [
       "<div>\n",
       "<style scoped>\n",
       "    .dataframe tbody tr th:only-of-type {\n",
       "        vertical-align: middle;\n",
       "    }\n",
       "\n",
       "    .dataframe tbody tr th {\n",
       "        vertical-align: top;\n",
       "    }\n",
       "\n",
       "    .dataframe thead th {\n",
       "        text-align: right;\n",
       "    }\n",
       "</style>\n",
       "<table border=\"1\" class=\"dataframe\">\n",
       "  <thead>\n",
       "    <tr style=\"text-align: right;\">\n",
       "      <th></th>\n",
       "      <th>% Problem</th>\n",
       "      <th>SolnMethod</th>\n",
       "      <th>Value</th>\n",
       "    </tr>\n",
       "  </thead>\n",
       "  <tbody>\n",
       "    <tr>\n",
       "      <th>0</th>\n",
       "      <td>0</td>\n",
       "      <td>genetic algorithm</td>\n",
       "      <td>112.749860</td>\n",
       "    </tr>\n",
       "    <tr>\n",
       "      <th>1</th>\n",
       "      <td>0</td>\n",
       "      <td>simulated annealing</td>\n",
       "      <td>75.220917</td>\n",
       "    </tr>\n",
       "    <tr>\n",
       "      <th>2</th>\n",
       "      <td>0</td>\n",
       "      <td>tabu search</td>\n",
       "      <td>111.574225</td>\n",
       "    </tr>\n",
       "    <tr>\n",
       "      <th>3</th>\n",
       "      <td>0</td>\n",
       "      <td>optimal</td>\n",
       "      <td>166.170172</td>\n",
       "    </tr>\n",
       "    <tr>\n",
       "      <th>4</th>\n",
       "      <td>1</td>\n",
       "      <td>genetic algorithm</td>\n",
       "      <td>31.819762</td>\n",
       "    </tr>\n",
       "  </tbody>\n",
       "</table>\n",
       "</div>"
      ],
      "text/plain": [
       "   % Problem           SolnMethod       Value\n",
       "0          0    genetic algorithm  112.749860\n",
       "1          0  simulated annealing   75.220917\n",
       "2          0          tabu search  111.574225\n",
       "3          0              optimal  166.170172\n",
       "4          1    genetic algorithm   31.819762"
      ]
     },
     "execution_count": 67,
     "metadata": {},
     "output_type": "execute_result"
    }
   ],
   "source": [
    "df4.head()"
   ]
  },
  {
   "cell_type": "code",
   "execution_count": 13,
   "metadata": {},
   "outputs": [
    {
     "data": {
      "image/png": "[encoded data removed]",
      "text/plain": [
       "<Figure size 936x504 with 2 Axes>"
      ]
     },
     "metadata": {
      "needs_background": "light"
     },
     "output_type": "display_data"
    }
   ],
   "source": [
    "import seaborn as sns\n",
    "import pandas as pd\n",
    "import matplotlib.pyplot as plt\n",
    "\n",
    "data1= pd.read_csv('solution_data.csv',comment='%',names=['Problem','SolnMethod','Value'])\n",
    "data1.columns = data1.columns.str.replace('%', '')\n",
    "data1['SolnMethod'] = data1['SolnMethod'].str.strip('|')\n",
    "data1['OptimalOFV'] = data1.groupby('Problem')['Value'].transform(lambda y: y.loc[data1['SolnMethod'] == 'optimal'].iloc[0])\n",
    "data1['optimality_gap'] = (data1['OptimalOFV'] - data1['Value']) / data1['OptimalOFV'] * 100\n",
    "filtr_data = data1[data1['SolnMethod'].isin(['genetic algorithm', 'simulated annealing', 'tabu search'])]\n",
    "\n",
    "fig, axs = plt.subplots(1, 2, figsize=(13, 7))\n",
    "\n",
    "axs[0].bar(filtr_data['SolnMethod'].unique(), filtr_data.groupby('SolnMethod')['optimality_gap'].mean(), color='orange', edgecolor='black')\n",
    "axs[0].set_title('Mean Gaps')\n",
    "axs[0].set_xlabel('Heuristic Method')\n",
    "axs[0].set_ylabel('Optimality Gap (%)')\n",
    "axs[0].set_yticks(range(0, int(filtr_data['optimality_gap'].max()) + 10, 10))\n",
    "\n",
    "axs[1].boxplot([filtered_data[filtr_data['SolnMethod'] == method]['optimality_gap'] for method in filtr_data['SolnMethod'].unique()], labels=filtered_data['SolnMethod'].unique(), medianprops=dict(color='orange'))\n",
    "\n",
    "axs[1].set_title('Distribution of Gaps')\n",
    "axs[1].set_xlabel('Heuristic Method')\n",
    "axs[1].set_yticks(range(0, int(filtr_data['optimality_gap'].max()) + 10, 10))\n",
    "\n",
    "ylim = axs[1].get_ylim()\n",
    "axs[0].set_ylim(ylim)\n",
    "\n",
    "plt.suptitle('Comparison of Optimality Gaps for Heuristics')\n",
    "plt.tight_layout()\n",
    "plt.show()"
   ]
  },
  {
   "cell_type": "code",
   "execution_count": 17,
   "metadata": {},
   "outputs": [
    {
     "name": "stderr",
     "output_type": "stream",
     "text": [
      "C:\\Users\\ganeshahp\\Anaconda3\\lib\\site-packages\\scipy\\stats\\stats.py:1713: FutureWarning: Using a non-tuple sequence for multidimensional indexing is deprecated; use `arr[tuple(seq)]` instead of `arr[seq]`. In the future this will be interpreted as an array index, `arr[np.array(seq)]`, which will result either in an error or a different result.\n",
      "  return np.add.reduce(sorted[indexer] * weights, axis=axis) / sumval\n"
     ]
    },
    {
     "data": {
      "text/plain": [
       "<seaborn.axisgrid.JointGrid at 0x1f62eb64a58>"
      ]
     },
     "execution_count": 17,
     "metadata": {},
     "output_type": "execute_result"
    },
    {
     "data": {
      "image/png": "[encoded data removed]",
      "text/plain": [
       "<Figure size 432x288 with 1 Axes>"
      ]
     },
     "metadata": {
      "needs_background": "light"
     },
     "output_type": "display_data"
    },
    {
     "data": {
      "image/png": "[encoded data removed]",
      "text/plain": [
       "<Figure size 432x432 with 3 Axes>"
      ]
     },
     "metadata": {
      "needs_background": "light"
     },
     "output_type": "display_data"
    }
   ],
   "source": [
    "import seaborn as sns\n",
    "import numpy as nm\n",
    "iris_data = pd.read_csv('Iris.csv')\n",
    "sns.kdeplot(data=iris_data['petal_length'], shade=True)\n",
    "sns.jointplot(x=iris_data['petal_length'], y=iris_data['sepal_width'], kind=\"kde\")\n",
    "\n",
    "# data source kaggle "
   ]
  },
  {
   "cell_type": "code",
   "execution_count": 83,
   "metadata": {},
   "outputs": [
    {
     "data": {
      "text/html": [
       "<div>\n",
       "<style scoped>\n",
       "    .dataframe tbody tr th:only-of-type {\n",
       "        vertical-align: middle;\n",
       "    }\n",
       "\n",
       "    .dataframe tbody tr th {\n",
       "        vertical-align: top;\n",
       "    }\n",
       "\n",
       "    .dataframe thead th {\n",
       "        text-align: right;\n",
       "    }\n",
       "</style>\n",
       "<table border=\"1\" class=\"dataframe\">\n",
       "  <thead>\n",
       "    <tr style=\"text-align: right;\">\n",
       "      <th></th>\n",
       "      <th>petal_length</th>\n",
       "      <th>petal_width</th>\n",
       "      <th>sepal_length</th>\n",
       "      <th>sepal_width</th>\n",
       "      <th>label</th>\n",
       "    </tr>\n",
       "  </thead>\n",
       "  <tbody>\n",
       "    <tr>\n",
       "      <th>0</th>\n",
       "      <td>5.1</td>\n",
       "      <td>3.5</td>\n",
       "      <td>1.4</td>\n",
       "      <td>0.2</td>\n",
       "      <td>Iris-setosa</td>\n",
       "    </tr>\n",
       "    <tr>\n",
       "      <th>1</th>\n",
       "      <td>4.9</td>\n",
       "      <td>3.0</td>\n",
       "      <td>1.4</td>\n",
       "      <td>0.2</td>\n",
       "      <td>Iris-setosa</td>\n",
       "    </tr>\n",
       "    <tr>\n",
       "      <th>2</th>\n",
       "      <td>4.7</td>\n",
       "      <td>3.2</td>\n",
       "      <td>1.3</td>\n",
       "      <td>0.2</td>\n",
       "      <td>Iris-setosa</td>\n",
       "    </tr>\n",
       "    <tr>\n",
       "      <th>3</th>\n",
       "      <td>4.6</td>\n",
       "      <td>3.1</td>\n",
       "      <td>1.5</td>\n",
       "      <td>0.2</td>\n",
       "      <td>Iris-setosa</td>\n",
       "    </tr>\n",
       "    <tr>\n",
       "      <th>4</th>\n",
       "      <td>5.0</td>\n",
       "      <td>3.6</td>\n",
       "      <td>1.4</td>\n",
       "      <td>0.2</td>\n",
       "      <td>Iris-setosa</td>\n",
       "    </tr>\n",
       "  </tbody>\n",
       "</table>\n",
       "</div>"
      ],
      "text/plain": [
       "   petal_length  petal_width  sepal_length  sepal_width        label\n",
       "0           5.1          3.5           1.4          0.2  Iris-setosa\n",
       "1           4.9          3.0           1.4          0.2  Iris-setosa\n",
       "2           4.7          3.2           1.3          0.2  Iris-setosa\n",
       "3           4.6          3.1           1.5          0.2  Iris-setosa\n",
       "4           5.0          3.6           1.4          0.2  Iris-setosa"
      ]
     },
     "execution_count": 83,
     "metadata": {},
     "output_type": "execute_result"
    }
   ],
   "source": [
    "iris_data.head()"
   ]
  },
  {
   "cell_type": "markdown",
   "metadata": {},
   "source": [
    "                                 Interpretation of Graph \n",
    "The type of plot is a kernel density estimate (KDE) plot, you can think of it as a smoothed histogram which gives us the distribution of petal length with respect to sepal width. In the sample collected there is a data of petal length for various species the graph as described gives the normal distribution\n",
    "On the other Hand two-dimensional (2D) KDE plot. The color-coding shows us how likely we are to see different combinations of sepal width and petal length, where darker parts of the figure are more likely"
   ]
  }
 ],
 "metadata": {
  "kernelspec": {
   "display_name": "Python 3",
   "language": "python",
   "name": "python3"
  },
  "language_info": {
   "codemirror_mode": {
    "name": "ipython",
    "version": 3
   },
   "file_extension": ".py",
   "mimetype": "text/x-python",
   "name": "python",
   "nbconvert_exporter": "python",
   "pygments_lexer": "ipython3",
   "version": "3.7.1"
  }
 },
 "nbformat": 4,
 "nbformat_minor": 2
}
